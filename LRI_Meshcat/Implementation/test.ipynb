{
 "cells": [
  {
   "cell_type": "code",
   "execution_count": 127,
   "id": "beb5a33e",
   "metadata": {},
   "outputs": [],
   "source": [
    "from sympy import *\n",
    "from sympy.algebras.quaternion import Quaternion\n",
    "import numpy as np\n",
    "from scipy import linalg\n",
    "from control import lqr\n",
    "import pandas as pd\n",
    "import os\n",
    "\n",
    "class Controls:\n",
    "    def __init__(\n",
    "            self,\n",
    "            t_motor_burnout: float = 1.971,\n",
    "            t_estimated_apogee: float = 13.571,\n",
    "            t_launch_rail_clearance: float = 0.164\n",
    "        ):\n",
    "        \"\"\"Initialize the Controls class. Rocket body axis is aligned with y-axis.\n",
    "\n",
    "        Args:\n",
    "            t_motor_burnout (float, optional): Time until motor burnout in seconds. Defaults to 1.971.\n",
    "        \"\"\"\n",
    "        self.t_motor_burnout = t_motor_burnout # seconds\n",
    "        self.t_estimated_apogee = t_estimated_apogee # seconds\n",
    "        self.t_launch_rail_clearance = t_launch_rail_clearance # seconds\n",
    "        # self.csv_path = os.path.join(os.path.dirname(__file__), \"important_data.csv\")\n",
    "        self.csv_path = \"/Users/dsong/Library/CloudStorage/OneDrive-UniversityofIllinois-Urbana/Club Stuff/LRI/FV-Controls/Control/important_data.csv\"\n",
    "\n",
    "    def getLineOfBestFitTime(self, var: str, n: int = 1):\n",
    "        \"\"\"Get the line of best fit for the given data with a polynomial of degree n.\n",
    "\n",
    "        Args:\n",
    "            var (str): The variable to fit the line to.\n",
    "            n (int, optional): The degree of the polynomial to fit. Defaults to 1.\n",
    "\n",
    "        Returns:\n",
    "            tuple: A tuple containing the coefficients of the polynomial and its degree.\n",
    "        \"\"\"\n",
    "        # Load the CSV data into a DataFrame\n",
    "        data = pd.read_csv(self.csv_path)\n",
    "        t = data[\"# Time (s)\"]\n",
    "        y = None\n",
    "        if (var == \"mass\"):\n",
    "            y = data[\"Mass (g)\"] / 1000  # Convert to kg\n",
    "        elif (var == \"inertia\"):\n",
    "            y = data[\"Longitudinal moment of inertia (kg·m²)\"]\n",
    "        else:\n",
    "            raise ValueError(\n",
    "                \"Invalid variable. Choose from: \" \\\n",
    "                \"'mass',\" \\\n",
    "                \"'inertia'. \" \\\n",
    "                )\n",
    "\n",
    "        # Filter data based on motor burnout\n",
    "        mask = t <= self.t_motor_burnout\n",
    "        t = t[mask]\n",
    "        y = y[mask]\n",
    "        coeffs = np.polyfit(t, y, n)\n",
    "        return coeffs, n\n",
    "\n",
    "\n",
    "    def getLineOfBestFitAoA(self, burnout: str, var: str, n: int = 5):\n",
    "        \"\"\"Get the line of best fit for the given data with a polynomial of degree n. Choose from \"stability margin\" or \"normal force coeff\".\n",
    "\n",
    "        Args:\n",
    "            burnout (str): Choose from \"pre burnout\" or \"post burnout\".\n",
    "            var (str): The variable to fit the line to.\n",
    "            n (int, optional): The degree of the polynomial to fit. Defaults to 5.\n",
    "\n",
    "        Returns:\n",
    "            tuple: A tuple containing the coefficients of the polynomial and its degree.\n",
    "        \"\"\"\n",
    "        # Load the CSV data into a DataFrame\n",
    "        data = pd.read_csv(self.csv_path)\n",
    "        x = data[\"Angle of attack (°)\"]\n",
    "        if (var == \"stability margin\"):\n",
    "            y = data[\"Stability margin calibers (​)\"]\n",
    "        else:\n",
    "            raise ValueError(\n",
    "                \"Invalid variable. Choose from: \" \\\n",
    "                \"'stability margin'. \"\n",
    "                )\n",
    "\n",
    "        launch_to_burnout = (data[\"# Time (s)\"] >= self.t_launch_rail_clearance) & (data[\"# Time (s)\"] < self.t_motor_burnout)\n",
    "        burnout_to_apogee = (data[\"# Time (s)\"] >= self.t_motor_burnout) & (data[\"# Time (s)\"] <= self.t_estimated_apogee)\n",
    "        if (burnout == \"pre burnout\"):\n",
    "            x = x[launch_to_burnout]\n",
    "            y = y[launch_to_burnout]\n",
    "        elif (burnout == \"post burnout\"):\n",
    "            x = x[burnout_to_apogee]\n",
    "            y = y[burnout_to_apogee]\n",
    "        else:\n",
    "            raise ValueError(\n",
    "                \"Invalid motor_burnout. Choose from: \" \\\n",
    "                \"'pre burnout', \" \\\n",
    "                \"'post burnout'. \"\n",
    "                )\n",
    "\n",
    "        coeffs = np.polyfit(x, y, n)\n",
    "        return coeffs, n\n",
    "\n",
    "    def getLineOfBestFitVel(self, var: str, n: int = 2):\n",
    "        \"\"\"Get the line of best fit for the given data with a polynomial of degree n.\n",
    "\n",
    "        Args:\n",
    "            var (str): The variable to fit the line to.\n",
    "            n (int, optional): The degree of the polynomial to fit. Defaults to 2.\n",
    "\n",
    "        Returns:\n",
    "            tuple: A tuple containing the coefficients of the polynomial and its degree.\n",
    "        \"\"\"\n",
    "        # Load the CSV data into a DataFrame\n",
    "        # TODO: set data to __init__ for efficiency\n",
    "        data = pd.read_csv(self.csv_path)\n",
    "        x = data[\"Total velocity (m/s)\"]\n",
    "        if (var == \"drag force\"):\n",
    "            y = data[\"Drag force (N)\"]\n",
    "        else:\n",
    "            raise ValueError(\n",
    "                \"Invalid variable. Choose from: \" \\\n",
    "                \"'drag force'. \"\n",
    "                )\n",
    "        launch_to_apogee = (data[\"# Time (s)\"] >= self.t_launch_rail_clearance) & (data[\"# Time (s)\"] <= self.t_estimated_apogee)\n",
    "        x = x[launch_to_apogee]\n",
    "        y = y[launch_to_apogee]\n",
    "\n",
    "        coeffs = np.polyfit(x, y, n)\n",
    "        return coeffs, n\n",
    "\n",
    "    def getTimeConstants(self, t: float):\n",
    "        \"\"\"Get the constants for the rocket at time t.\n",
    "\n",
    "        Args:\n",
    "            t (float): The time in seconds.\n",
    "\n",
    "        Returns:\n",
    "            dict: A dictionary containing the fin moments, corrective constants, mass, inertia, drag coeff, and drag force.\n",
    "        \"\"\"\n",
    "\n",
    "        constants = dict()\n",
    "        I = Matrix([0.004, 0.004, 0.29]) # Post burnout inertia values from OpenRocket, kg*m^2\n",
    "        m = 2.589  # Post burnout mass from OpenRocket, kg\n",
    "        T = Matrix([0., 0., 0.])  # N\n",
    "\n",
    "        motor_burnout = t > self.t_motor_burnout\n",
    "\n",
    "        # TODO: for added efficiency, only call getLineOfBestFitTime once per variable and store the results\n",
    "        if not motor_burnout:\n",
    "            coeffs_mass, degree_mass = self.getLineOfBestFitTime(\"mass\")\n",
    "            m = sum(coeffs_mass[i] * t**(degree_mass - i) for i in range(degree_mass + 1))\n",
    "\n",
    "            coeffs_inertia, degree_inertia = self.getLineOfBestFitTime(\"inertia\")\n",
    "            I[2] = sum(coeffs_inertia[i] * t**(degree_inertia - i) for i in range(degree_inertia + 1))\n",
    "\n",
    "            times = pd.read_csv(self.csv_path)[\"# Time (s)\"]\n",
    "            thrust = pd.read_csv(self.csv_path)[\"Thrust (N)\"]\n",
    "            T[2] = np.interp(t, times, thrust) # Thrust acting in z direction\n",
    "\n",
    "        constants[\"inertia\"] = I\n",
    "        constants[\"mass\"] = m\n",
    "        constants[\"thrust\"] = T\n",
    "        \n",
    "        return constants\n",
    "    def getAileronMoment(self, delta1: Symbol, v3: float):\n",
    "        \"\"\"Get the aileron moment based on the aileron angle.\n",
    "\n",
    "        Args:\n",
    "            delta1 (float): The aileron angle in radians.\n",
    "            v3 (float): The vertical velocity in m/s.\n",
    "        Returns:\n",
    "            Matrix: The symbolic moment vector [Mx, My, Mz] function of the aileron angle and rocket's vertical velocity.\n",
    "        \"\"\"\n",
    "        \n",
    "        M1, M2 = 0, 0\n",
    "        # Verify later with data points\n",
    "        M3 = delta1/8 * (4.11522634e-09*(v3**3) \n",
    "                        - 1.04938272e-06*(v3**2) \n",
    "                        + 3.35185185e-04*v3 \n",
    "                        - 1.22222222e-02) # v3 = vertical velocity, Mz = roll moment\n",
    "\n",
    "        return Matrix([M1, M2, M3])\n",
    "    \n",
    "\n",
    "    def getAB(self, t: float, v3: float):\n",
    "        M3, I3 = symbols('M_3 I_3', real = True) # Moment and inertia about z-axis\n",
    "        w3, delta1 = symbols('w_3 delta_1', real = True) # Angular velocity about z-axis, aileron angle\n",
    "        Dr = 0 # Rotational damping coefficient, TODO: find actual value\n",
    "        w3dot = (M3 - Dr * w3) / I3\n",
    "        f = Matrix([\n",
    "            [w3dot]\n",
    "        ])\n",
    "\n",
    "        m = Matrix([w3]) # State vector\n",
    "        n = Matrix([delta1]) # Input vector\n",
    "\n",
    "        constants = self.getTimeConstants(t)\n",
    "        mass_rocket = constants[\"mass\"]\n",
    "        inertia = constants[\"inertia\"]\n",
    "        thrust = constants[\"thrust\"]\n",
    "\n",
    "        Mf = Matrix([0.003, 0.003, 0.003])  # Fin misalignment from open rocket\n",
    "        M = Mf + self.getAileronMoment(delta1, v3)\n",
    "\n",
    "        params = {\n",
    "            I3: Float(inertia[2]),\n",
    "            M3: M[2]\n",
    "        }\n",
    "\n",
    "        f = f.subs(params)\n",
    "\n",
    "        m_e = {\n",
    "            w3: 0\n",
    "        }\n",
    "        delta1_e = solve(f.subs(m_e), delta1, dict=True)[0][delta1]\n",
    "        # print(delta1_e)\n",
    "        n_e = {\n",
    "            delta1: delta1_e\n",
    "        }\n",
    "\n",
    "        A = f.jacobian(m).subs(m_e).subs(n_e)\n",
    "        B = f.jacobian(n).subs(m_e).subs(n_e)\n",
    "\n",
    "        f_subs = f.subs(m_e).subs(n_e)\n",
    "\n",
    "        return A, B, f_subs, f\n"
   ]
  },
  {
   "cell_type": "code",
   "execution_count": 84,
   "id": "44acc85d",
   "metadata": {},
   "outputs": [
    {
     "data": {
      "text/plain": [
       "array([[-0.93461926]])"
      ]
     },
     "execution_count": 84,
     "metadata": {},
     "output_type": "execute_result"
    }
   ],
   "source": [
    "t = pd.read_csv(\"/Users/dsong/Library/CloudStorage/OneDrive-UniversityofIllinois-Urbana/Club Stuff/LRI/FV-Controls/Control/important_data.csv\")[\"# Time (s)\"]\n",
    "v = pd.read_csv(\"/Users/dsong/Library/CloudStorage/OneDrive-UniversityofIllinois-Urbana/Club Stuff/LRI/FV-Controls/Control/important_data.csv\")[\"Total velocity (m/s)\"]\n",
    "w = pd.read_csv(\"/Users/dsong/Library/CloudStorage/OneDrive-UniversityofIllinois-Urbana/Club Stuff/LRI/FV-Controls/Control/important_data.csv\")[\"Roll rate (°/s)\"]\n",
    "w = w * np.pi / 180 # convert to rad/s\n",
    "\n",
    "As = []\n",
    "Bs = []\n",
    "Ks = []\n",
    "\n",
    "for i in range(347):\n",
    "    A, B, _, _ = Controls().getAB(t[i], v[i])\n",
    "    A = np.array(A).astype(float)\n",
    "    B = np.array(B).astype(float)\n",
    "    Q = np.diag([1]) # State cost matrix\n",
    "    R = np.diag([1]) # Input cost matrix\n",
    "    K, _, _ = lqr(A, B, Q, R)\n",
    "\n",
    "    As.append(A)\n",
    "    Bs.append(B)\n",
    "    Ks.append(K)\n",
    "\n",
    "    # print(f\"t = {t[i]:.3f}, v = {v[i]:.3f}, A = {A}, B = {B}, K = {K}\")\n",
    "\n",
    "Ks[1]"
   ]
  },
  {
   "cell_type": "code",
   "execution_count": 93,
   "id": "56a6128e",
   "metadata": {},
   "outputs": [
    {
     "name": "stdout",
     "output_type": "stream",
     "text": [
      "A =  [[-0.00030685]]\n",
      "B =  [[-0.00453464]]\n",
      "K =  [[-0.93461926]]\n"
     ]
    }
   ],
   "source": [
    "print(\"A = \", As[1])\n",
    "print(\"B = \", Bs[1])\n",
    "print(\"K = \", Ks[1])"
   ]
  },
  {
   "cell_type": "code",
   "execution_count": 154,
   "id": "486d6a42",
   "metadata": {},
   "outputs": [],
   "source": [
    "mask = t <= 13.571\n",
    "t = t[mask]\n",
    "v = v[mask]\n",
    "\n",
    "dt = np.diff(t)                        # time steps, length N-1\n",
    "N  = len(t)\n",
    "x  = np.zeros(N)                       # state history\n",
    "u  = np.zeros(N-1)                     # input history\n",
    "x[0] = 1e-3\n",
    "Q = np.diag([1]) # State cost matrix\n",
    "R = np.diag([1e-5]) # Input cost matrix\n",
    "\n",
    "for k in range(N-1):\n",
    "    A, B, _, _ = Controls().getAB(t[k], v[k])\n",
    "    A = np.array(A).astype(float)\n",
    "    B = np.array(B).astype(float)\n",
    "    K, _, _ = lqr(A, B, Q, R)\n",
    "\n",
    "    u[k] = -K[0][0] * x[k]                   # state feedback\n",
    "    # Clamp control input to physical limits\n",
    "    u_lim = np.deg2rad(8)\n",
    "    u[k] = np.clip(u[k], -u_lim, u_lim) # aileron angle limits\n",
    "    xdot = A[0][0] * x[k] + B[0][0] * u[k]\n",
    "    x[k+1] = x[k] + dt[k] * xdot       # Euler step\n",
    "    if (k+1) == 75:\n",
    "        x[k+1] = -1e-3"
   ]
  },
  {
   "cell_type": "code",
   "execution_count": 155,
   "id": "5d44a8e0",
   "metadata": {},
   "outputs": [
    {
     "data": {
      "text/plain": [
       "<matplotlib.legend.Legend at 0x328b46850>"
      ]
     },
     "execution_count": 155,
     "metadata": {},
     "output_type": "execute_result"
    },
    {
     "data": {
      "image/png": "[encoded data removed]",
      "text/plain": [
       "<Figure size 640x480 with 2 Axes>"
      ]
     },
     "metadata": {},
     "output_type": "display_data"
    }
   ],
   "source": [
    "# Plotting\n",
    "import matplotlib.pyplot as plt\n",
    "plt.figure()\n",
    "plt.subplot(2,1,1)\n",
    "plt.plot(t, x, label='x (rad/s)')\n",
    "# plt.plot(t, w, label='w (rad/s)')\n",
    "plt.legend()\n",
    "plt.subplot(2,1,2)\n",
    "plt.plot(t[:-1], u * 180/np.pi, label='u (deg)')\n",
    "plt.legend()"
   ]
  },
  {
   "cell_type": "code",
   "execution_count": 47,
   "id": "ea496107",
   "metadata": {},
   "outputs": [
    {
     "data": {
      "text/latex": [
       "$\\displaystyle \\left[\\begin{matrix}0\\end{matrix}\\right]$"
      ],
      "text/plain": [
       "Matrix([[0]])"
      ]
     },
     "execution_count": 47,
     "metadata": {},
     "output_type": "execute_result"
    }
   ],
   "source": [
    "A"
   ]
  },
  {
   "cell_type": "code",
   "execution_count": 33,
   "id": "fdd43fb9",
   "metadata": {},
   "outputs": [
    {
     "data": {
      "text/latex": [
       "$\\displaystyle \\left[\\begin{matrix}0.0059068693338613\\end{matrix}\\right]$"
      ],
      "text/plain": [
       "Matrix([[0.0059068693338613]])"
      ]
     },
     "execution_count": 33,
     "metadata": {},
     "output_type": "execute_result"
    }
   ],
   "source": [
    "B"
   ]
  }
 ],
 "metadata": {
  "kernelspec": {
   "display_name": "ae353",
   "language": "python",
   "name": "python3"
  },
  "language_info": {
   "codemirror_mode": {
    "name": "ipython",
    "version": 3
   },
   "file_extension": ".py",
   "mimetype": "text/x-python",
   "name": "python",
   "nbconvert_exporter": "python",
   "pygments_lexer": "ipython3",
   "version": "3.13.2"
  }
 },
 "nbformat": 4,
 "nbformat_minor": 5
}
