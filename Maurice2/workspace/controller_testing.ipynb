{
 "cells": [
  {
   "cell_type": "markdown",
   "id": "36f7d609",
   "metadata": {},
   "source": [
    "# Controller Testing"
   ]
  },
  {
   "cell_type": "markdown",
   "id": "a84a04d1",
   "metadata": {},
   "source": [
    "Currently broken, not sure why openrocket_data.csv can't be read after fixing the Controls import"
   ]
  },
  {
   "cell_type": "code",
   "execution_count": 6,
   "id": "1effac27",
   "metadata": {},
   "outputs": [],
   "source": [
    "import matplotlib.pyplot as plt\n",
    "import numpy as np\n",
    "\n",
    "from pathlib import Path\n",
    "import sys\n",
    "\n",
    "# We are currently in .../Maurice2/workspace\n",
    "# We need to add the directory that CONTAINS \"Maurice2\" to sys.path (two levels up)\n",
    "repo_parent = Path.cwd().resolve().parents[1]  # go up from workspace -> Maurice2 -> parent\n",
    "if str(repo_parent) not in sys.path:\n",
    "    sys.path.insert(0, str(repo_parent))\n",
    "\n",
    "# now this works:\n",
    "from Maurice2.controls.control_algorithm import Controls"
   ]
  },
  {
   "cell_type": "code",
   "execution_count": 8,
   "id": "3954d478",
   "metadata": {},
   "outputs": [
    {
     "name": "stdout",
     "output_type": "stream",
     "text": [
      "t: 0.000, xhat: [0 0 0 0 0 0 1 0 0 0], u: [0]\n"
     ]
    },
    {
     "ename": "FileNotFoundError",
     "evalue": "[Errno 2] No such file or directory: 'Maurice2/data/openrocket_data.csv'",
     "output_type": "error",
     "traceback": [
      "\u001b[31m---------------------------------------------------------------------------\u001b[39m",
      "\u001b[31mFileNotFoundError\u001b[39m                         Traceback (most recent call last)",
      "\u001b[36mCell\u001b[39m\u001b[36m \u001b[39m\u001b[32mIn[8]\u001b[39m\u001b[32m, line 21\u001b[39m\n\u001b[32m     19\u001b[39m controller.deriveEOM(post_burnout=\u001b[38;5;28;01mTrue\u001b[39;00m)\n\u001b[32m     20\u001b[39m controller.buildL(lw=\u001b[32m5.0\u001b[39m, lqw=\u001b[32m1.0\u001b[39m, lqx=\u001b[32m2.0\u001b[39m, lqy=\u001b[32m2.0\u001b[39m, lqz=\u001b[32m2.0\u001b[39m)\n\u001b[32m---> \u001b[39m\u001b[32m21\u001b[39m \u001b[43mcontroller\u001b[49m\u001b[43m.\u001b[49m\u001b[43mtest_AB\u001b[49m\u001b[43m(\u001b[49m\u001b[43mt0\u001b[49m\u001b[43m,\u001b[49m\u001b[43m \u001b[49m\u001b[43mxhat0\u001b[49m\u001b[43m,\u001b[49m\u001b[43m \u001b[49m\u001b[43mu0\u001b[49m\u001b[43m)\u001b[49m\n",
      "\u001b[36mFile \u001b[39m\u001b[32m~/Library/CloudStorage/OneDrive-UniversityofIllinois-Urbana/Club Stuff/LRI/FV-Controls/Maurice2/controls/control_algorithm.py:938\u001b[39m, in \u001b[36mControls.test_AB\u001b[39m\u001b[34m(self, t, xhat, u)\u001b[39m\n\u001b[32m    936\u001b[39m \u001b[38;5;28;01mwhile\u001b[39;00m t < \u001b[38;5;28mself\u001b[39m.t_estimated_apogee:\n\u001b[32m    937\u001b[39m     \u001b[38;5;28mprint\u001b[39m(\u001b[33mf\u001b[39m\u001b[33m\"\u001b[39m\u001b[33mt: \u001b[39m\u001b[38;5;132;01m{\u001b[39;00mt\u001b[38;5;132;01m:\u001b[39;00m\u001b[33m.3f\u001b[39m\u001b[38;5;132;01m}\u001b[39;00m\u001b[33m, xhat: \u001b[39m\u001b[38;5;132;01m{\u001b[39;00mxhat\u001b[38;5;132;01m}\u001b[39;00m\u001b[33m, u: \u001b[39m\u001b[38;5;132;01m{\u001b[39;00mu\u001b[38;5;132;01m}\u001b[39;00m\u001b[33m\"\u001b[39m)\n\u001b[32m--> \u001b[39m\u001b[32m938\u001b[39m     \u001b[38;5;28;43mself\u001b[39;49m\u001b[43m.\u001b[49m\u001b[43mcomputeAB\u001b[49m\u001b[43m(\u001b[49m\u001b[43mt\u001b[49m\u001b[43m,\u001b[49m\u001b[43m \u001b[49m\u001b[43mxhat\u001b[49m\u001b[43m,\u001b[49m\u001b[43m \u001b[49m\u001b[43mu\u001b[49m\u001b[43m)\u001b[49m\n\u001b[32m    939\u001b[39m     \u001b[38;5;28mself\u001b[39m.computeC(xhat, u)\n\u001b[32m    940\u001b[39m     A = np.array(\u001b[38;5;28mself\u001b[39m.A.n()).astype(np.float64)\n",
      "\u001b[36mFile \u001b[39m\u001b[32m~/Library/CloudStorage/OneDrive-UniversityofIllinois-Urbana/Club Stuff/LRI/FV-Controls/Maurice2/controls/control_algorithm.py:567\u001b[39m, in \u001b[36mControls.computeAB\u001b[39m\u001b[34m(self, t, xhat, u)\u001b[39m\n\u001b[32m    564\u001b[39m n = Matrix([delta1]) \u001b[38;5;66;03m# Input vector\u001b[39;00m\n\u001b[32m    566\u001b[39m \u001b[38;5;66;03m## Get time varying constants ##\u001b[39;00m\n\u001b[32m--> \u001b[39m\u001b[32m567\u001b[39m constants = \u001b[38;5;28;43mself\u001b[39;49m\u001b[43m.\u001b[49m\u001b[43mgetTimeConstants\u001b[49m\u001b[43m(\u001b[49m\u001b[43mt\u001b[49m\u001b[43m)\u001b[49m\n\u001b[32m    568\u001b[39m mass_rocket = constants[\u001b[33m\"\u001b[39m\u001b[33mmass\u001b[39m\u001b[33m\"\u001b[39m]\n\u001b[32m    569\u001b[39m inertia = constants[\u001b[33m\"\u001b[39m\u001b[33minertia\u001b[39m\u001b[33m\"\u001b[39m]\n",
      "\u001b[36mFile \u001b[39m\u001b[32m~/Library/CloudStorage/OneDrive-UniversityofIllinois-Urbana/Club Stuff/LRI/FV-Controls/Maurice2/controls/control_algorithm.py:204\u001b[39m, in \u001b[36mControls.getTimeConstants\u001b[39m\u001b[34m(self, t)\u001b[39m\n\u001b[32m    202\u001b[39m \u001b[38;5;66;03m# TODO: for added efficiency, only call getLineOfBestFitTime once per variable and store the results\u001b[39;00m\n\u001b[32m    203\u001b[39m \u001b[38;5;28;01mif\u001b[39;00m \u001b[38;5;129;01mnot\u001b[39;00m motor_burnout:\n\u001b[32m--> \u001b[39m\u001b[32m204\u001b[39m     coeffs_mass, degree_mass = \u001b[38;5;28;43mself\u001b[39;49m\u001b[43m.\u001b[49m\u001b[43mgetLineOfBestFitTime\u001b[49m\u001b[43m(\u001b[49m\u001b[33;43m\"\u001b[39;49m\u001b[33;43mmass\u001b[39;49m\u001b[33;43m\"\u001b[39;49m\u001b[43m)\u001b[49m\n\u001b[32m    205\u001b[39m     m = \u001b[38;5;28msum\u001b[39m(coeffs_mass[i] * t**(degree_mass - i) \u001b[38;5;28;01mfor\u001b[39;00m i \u001b[38;5;129;01min\u001b[39;00m \u001b[38;5;28mrange\u001b[39m(degree_mass + \u001b[32m1\u001b[39m))\n\u001b[32m    207\u001b[39m     coeffs_inertia, degree_inertia = \u001b[38;5;28mself\u001b[39m.getLineOfBestFitTime(\u001b[33m\"\u001b[39m\u001b[33minertia\u001b[39m\u001b[33m\"\u001b[39m)\n",
      "\u001b[36mFile \u001b[39m\u001b[32m~/Library/CloudStorage/OneDrive-UniversityofIllinois-Urbana/Club Stuff/LRI/FV-Controls/Maurice2/controls/control_algorithm.py:88\u001b[39m, in \u001b[36mControls.getLineOfBestFitTime\u001b[39m\u001b[34m(self, var, n)\u001b[39m\n\u001b[32m     78\u001b[39m \u001b[38;5;250m\u001b[39m\u001b[33;03m\"\"\"Get the line of best fit for the given data with a polynomial of degree n.\u001b[39;00m\n\u001b[32m     79\u001b[39m \n\u001b[32m     80\u001b[39m \u001b[33;03mArgs:\u001b[39;00m\n\u001b[32m   (...)\u001b[39m\u001b[32m     85\u001b[39m \u001b[33;03m    tuple: A tuple containing the coefficients of the polynomial and its degree.\u001b[39;00m\n\u001b[32m     86\u001b[39m \u001b[33;03m\"\"\"\u001b[39;00m\n\u001b[32m     87\u001b[39m \u001b[38;5;66;03m# Load the CSV data into a DataFrame\u001b[39;00m\n\u001b[32m---> \u001b[39m\u001b[32m88\u001b[39m data = \u001b[43mpd\u001b[49m\u001b[43m.\u001b[49m\u001b[43mread_csv\u001b[49m\u001b[43m(\u001b[49m\u001b[38;5;28;43mself\u001b[39;49m\u001b[43m.\u001b[49m\u001b[43mcsv_path\u001b[49m\u001b[43m)\u001b[49m\n\u001b[32m     89\u001b[39m t = data[\u001b[33m\"\u001b[39m\u001b[33m# Time (s)\u001b[39m\u001b[33m\"\u001b[39m]\n\u001b[32m     90\u001b[39m y = \u001b[38;5;28;01mNone\u001b[39;00m\n",
      "\u001b[36mFile \u001b[39m\u001b[32m~/miniforge3/envs/ae353/lib/python3.13/site-packages/pandas/io/parsers/readers.py:1026\u001b[39m, in \u001b[36mread_csv\u001b[39m\u001b[34m(filepath_or_buffer, sep, delimiter, header, names, index_col, usecols, dtype, engine, converters, true_values, false_values, skipinitialspace, skiprows, skipfooter, nrows, na_values, keep_default_na, na_filter, verbose, skip_blank_lines, parse_dates, infer_datetime_format, keep_date_col, date_parser, date_format, dayfirst, cache_dates, iterator, chunksize, compression, thousands, decimal, lineterminator, quotechar, quoting, doublequote, escapechar, comment, encoding, encoding_errors, dialect, on_bad_lines, delim_whitespace, low_memory, memory_map, float_precision, storage_options, dtype_backend)\u001b[39m\n\u001b[32m   1013\u001b[39m kwds_defaults = _refine_defaults_read(\n\u001b[32m   1014\u001b[39m     dialect,\n\u001b[32m   1015\u001b[39m     delimiter,\n\u001b[32m   (...)\u001b[39m\u001b[32m   1022\u001b[39m     dtype_backend=dtype_backend,\n\u001b[32m   1023\u001b[39m )\n\u001b[32m   1024\u001b[39m kwds.update(kwds_defaults)\n\u001b[32m-> \u001b[39m\u001b[32m1026\u001b[39m \u001b[38;5;28;01mreturn\u001b[39;00m \u001b[43m_read\u001b[49m\u001b[43m(\u001b[49m\u001b[43mfilepath_or_buffer\u001b[49m\u001b[43m,\u001b[49m\u001b[43m \u001b[49m\u001b[43mkwds\u001b[49m\u001b[43m)\u001b[49m\n",
      "\u001b[36mFile \u001b[39m\u001b[32m~/miniforge3/envs/ae353/lib/python3.13/site-packages/pandas/io/parsers/readers.py:620\u001b[39m, in \u001b[36m_read\u001b[39m\u001b[34m(filepath_or_buffer, kwds)\u001b[39m\n\u001b[32m    617\u001b[39m _validate_names(kwds.get(\u001b[33m\"\u001b[39m\u001b[33mnames\u001b[39m\u001b[33m\"\u001b[39m, \u001b[38;5;28;01mNone\u001b[39;00m))\n\u001b[32m    619\u001b[39m \u001b[38;5;66;03m# Create the parser.\u001b[39;00m\n\u001b[32m--> \u001b[39m\u001b[32m620\u001b[39m parser = \u001b[43mTextFileReader\u001b[49m\u001b[43m(\u001b[49m\u001b[43mfilepath_or_buffer\u001b[49m\u001b[43m,\u001b[49m\u001b[43m \u001b[49m\u001b[43m*\u001b[49m\u001b[43m*\u001b[49m\u001b[43mkwds\u001b[49m\u001b[43m)\u001b[49m\n\u001b[32m    622\u001b[39m \u001b[38;5;28;01mif\u001b[39;00m chunksize \u001b[38;5;129;01mor\u001b[39;00m iterator:\n\u001b[32m    623\u001b[39m     \u001b[38;5;28;01mreturn\u001b[39;00m parser\n",
      "\u001b[36mFile \u001b[39m\u001b[32m~/miniforge3/envs/ae353/lib/python3.13/site-packages/pandas/io/parsers/readers.py:1620\u001b[39m, in \u001b[36mTextFileReader.__init__\u001b[39m\u001b[34m(self, f, engine, **kwds)\u001b[39m\n\u001b[32m   1617\u001b[39m     \u001b[38;5;28mself\u001b[39m.options[\u001b[33m\"\u001b[39m\u001b[33mhas_index_names\u001b[39m\u001b[33m\"\u001b[39m] = kwds[\u001b[33m\"\u001b[39m\u001b[33mhas_index_names\u001b[39m\u001b[33m\"\u001b[39m]\n\u001b[32m   1619\u001b[39m \u001b[38;5;28mself\u001b[39m.handles: IOHandles | \u001b[38;5;28;01mNone\u001b[39;00m = \u001b[38;5;28;01mNone\u001b[39;00m\n\u001b[32m-> \u001b[39m\u001b[32m1620\u001b[39m \u001b[38;5;28mself\u001b[39m._engine = \u001b[38;5;28;43mself\u001b[39;49m\u001b[43m.\u001b[49m\u001b[43m_make_engine\u001b[49m\u001b[43m(\u001b[49m\u001b[43mf\u001b[49m\u001b[43m,\u001b[49m\u001b[43m \u001b[49m\u001b[38;5;28;43mself\u001b[39;49m\u001b[43m.\u001b[49m\u001b[43mengine\u001b[49m\u001b[43m)\u001b[49m\n",
      "\u001b[36mFile \u001b[39m\u001b[32m~/miniforge3/envs/ae353/lib/python3.13/site-packages/pandas/io/parsers/readers.py:1880\u001b[39m, in \u001b[36mTextFileReader._make_engine\u001b[39m\u001b[34m(self, f, engine)\u001b[39m\n\u001b[32m   1878\u001b[39m     \u001b[38;5;28;01mif\u001b[39;00m \u001b[33m\"\u001b[39m\u001b[33mb\u001b[39m\u001b[33m\"\u001b[39m \u001b[38;5;129;01mnot\u001b[39;00m \u001b[38;5;129;01min\u001b[39;00m mode:\n\u001b[32m   1879\u001b[39m         mode += \u001b[33m\"\u001b[39m\u001b[33mb\u001b[39m\u001b[33m\"\u001b[39m\n\u001b[32m-> \u001b[39m\u001b[32m1880\u001b[39m \u001b[38;5;28mself\u001b[39m.handles = \u001b[43mget_handle\u001b[49m\u001b[43m(\u001b[49m\n\u001b[32m   1881\u001b[39m \u001b[43m    \u001b[49m\u001b[43mf\u001b[49m\u001b[43m,\u001b[49m\n\u001b[32m   1882\u001b[39m \u001b[43m    \u001b[49m\u001b[43mmode\u001b[49m\u001b[43m,\u001b[49m\n\u001b[32m   1883\u001b[39m \u001b[43m    \u001b[49m\u001b[43mencoding\u001b[49m\u001b[43m=\u001b[49m\u001b[38;5;28;43mself\u001b[39;49m\u001b[43m.\u001b[49m\u001b[43moptions\u001b[49m\u001b[43m.\u001b[49m\u001b[43mget\u001b[49m\u001b[43m(\u001b[49m\u001b[33;43m\"\u001b[39;49m\u001b[33;43mencoding\u001b[39;49m\u001b[33;43m\"\u001b[39;49m\u001b[43m,\u001b[49m\u001b[43m \u001b[49m\u001b[38;5;28;43;01mNone\u001b[39;49;00m\u001b[43m)\u001b[49m\u001b[43m,\u001b[49m\n\u001b[32m   1884\u001b[39m \u001b[43m    \u001b[49m\u001b[43mcompression\u001b[49m\u001b[43m=\u001b[49m\u001b[38;5;28;43mself\u001b[39;49m\u001b[43m.\u001b[49m\u001b[43moptions\u001b[49m\u001b[43m.\u001b[49m\u001b[43mget\u001b[49m\u001b[43m(\u001b[49m\u001b[33;43m\"\u001b[39;49m\u001b[33;43mcompression\u001b[39;49m\u001b[33;43m\"\u001b[39;49m\u001b[43m,\u001b[49m\u001b[43m \u001b[49m\u001b[38;5;28;43;01mNone\u001b[39;49;00m\u001b[43m)\u001b[49m\u001b[43m,\u001b[49m\n\u001b[32m   1885\u001b[39m \u001b[43m    \u001b[49m\u001b[43mmemory_map\u001b[49m\u001b[43m=\u001b[49m\u001b[38;5;28;43mself\u001b[39;49m\u001b[43m.\u001b[49m\u001b[43moptions\u001b[49m\u001b[43m.\u001b[49m\u001b[43mget\u001b[49m\u001b[43m(\u001b[49m\u001b[33;43m\"\u001b[39;49m\u001b[33;43mmemory_map\u001b[39;49m\u001b[33;43m\"\u001b[39;49m\u001b[43m,\u001b[49m\u001b[43m \u001b[49m\u001b[38;5;28;43;01mFalse\u001b[39;49;00m\u001b[43m)\u001b[49m\u001b[43m,\u001b[49m\n\u001b[32m   1886\u001b[39m \u001b[43m    \u001b[49m\u001b[43mis_text\u001b[49m\u001b[43m=\u001b[49m\u001b[43mis_text\u001b[49m\u001b[43m,\u001b[49m\n\u001b[32m   1887\u001b[39m \u001b[43m    \u001b[49m\u001b[43merrors\u001b[49m\u001b[43m=\u001b[49m\u001b[38;5;28;43mself\u001b[39;49m\u001b[43m.\u001b[49m\u001b[43moptions\u001b[49m\u001b[43m.\u001b[49m\u001b[43mget\u001b[49m\u001b[43m(\u001b[49m\u001b[33;43m\"\u001b[39;49m\u001b[33;43mencoding_errors\u001b[39;49m\u001b[33;43m\"\u001b[39;49m\u001b[43m,\u001b[49m\u001b[43m \u001b[49m\u001b[33;43m\"\u001b[39;49m\u001b[33;43mstrict\u001b[39;49m\u001b[33;43m\"\u001b[39;49m\u001b[43m)\u001b[49m\u001b[43m,\u001b[49m\n\u001b[32m   1888\u001b[39m \u001b[43m    \u001b[49m\u001b[43mstorage_options\u001b[49m\u001b[43m=\u001b[49m\u001b[38;5;28;43mself\u001b[39;49m\u001b[43m.\u001b[49m\u001b[43moptions\u001b[49m\u001b[43m.\u001b[49m\u001b[43mget\u001b[49m\u001b[43m(\u001b[49m\u001b[33;43m\"\u001b[39;49m\u001b[33;43mstorage_options\u001b[39;49m\u001b[33;43m\"\u001b[39;49m\u001b[43m,\u001b[49m\u001b[43m \u001b[49m\u001b[38;5;28;43;01mNone\u001b[39;49;00m\u001b[43m)\u001b[49m\u001b[43m,\u001b[49m\n\u001b[32m   1889\u001b[39m \u001b[43m\u001b[49m\u001b[43m)\u001b[49m\n\u001b[32m   1890\u001b[39m \u001b[38;5;28;01massert\u001b[39;00m \u001b[38;5;28mself\u001b[39m.handles \u001b[38;5;129;01mis\u001b[39;00m \u001b[38;5;129;01mnot\u001b[39;00m \u001b[38;5;28;01mNone\u001b[39;00m\n\u001b[32m   1891\u001b[39m f = \u001b[38;5;28mself\u001b[39m.handles.handle\n",
      "\u001b[36mFile \u001b[39m\u001b[32m~/miniforge3/envs/ae353/lib/python3.13/site-packages/pandas/io/common.py:873\u001b[39m, in \u001b[36mget_handle\u001b[39m\u001b[34m(path_or_buf, mode, encoding, compression, memory_map, is_text, errors, storage_options)\u001b[39m\n\u001b[32m    868\u001b[39m \u001b[38;5;28;01melif\u001b[39;00m \u001b[38;5;28misinstance\u001b[39m(handle, \u001b[38;5;28mstr\u001b[39m):\n\u001b[32m    869\u001b[39m     \u001b[38;5;66;03m# Check whether the filename is to be opened in binary mode.\u001b[39;00m\n\u001b[32m    870\u001b[39m     \u001b[38;5;66;03m# Binary mode does not support 'encoding' and 'newline'.\u001b[39;00m\n\u001b[32m    871\u001b[39m     \u001b[38;5;28;01mif\u001b[39;00m ioargs.encoding \u001b[38;5;129;01mand\u001b[39;00m \u001b[33m\"\u001b[39m\u001b[33mb\u001b[39m\u001b[33m\"\u001b[39m \u001b[38;5;129;01mnot\u001b[39;00m \u001b[38;5;129;01min\u001b[39;00m ioargs.mode:\n\u001b[32m    872\u001b[39m         \u001b[38;5;66;03m# Encoding\u001b[39;00m\n\u001b[32m--> \u001b[39m\u001b[32m873\u001b[39m         handle = \u001b[38;5;28;43mopen\u001b[39;49m\u001b[43m(\u001b[49m\n\u001b[32m    874\u001b[39m \u001b[43m            \u001b[49m\u001b[43mhandle\u001b[49m\u001b[43m,\u001b[49m\n\u001b[32m    875\u001b[39m \u001b[43m            \u001b[49m\u001b[43mioargs\u001b[49m\u001b[43m.\u001b[49m\u001b[43mmode\u001b[49m\u001b[43m,\u001b[49m\n\u001b[32m    876\u001b[39m \u001b[43m            \u001b[49m\u001b[43mencoding\u001b[49m\u001b[43m=\u001b[49m\u001b[43mioargs\u001b[49m\u001b[43m.\u001b[49m\u001b[43mencoding\u001b[49m\u001b[43m,\u001b[49m\n\u001b[32m    877\u001b[39m \u001b[43m            \u001b[49m\u001b[43merrors\u001b[49m\u001b[43m=\u001b[49m\u001b[43merrors\u001b[49m\u001b[43m,\u001b[49m\n\u001b[32m    878\u001b[39m \u001b[43m            \u001b[49m\u001b[43mnewline\u001b[49m\u001b[43m=\u001b[49m\u001b[33;43m\"\u001b[39;49m\u001b[33;43m\"\u001b[39;49m\u001b[43m,\u001b[49m\n\u001b[32m    879\u001b[39m \u001b[43m        \u001b[49m\u001b[43m)\u001b[49m\n\u001b[32m    880\u001b[39m     \u001b[38;5;28;01melse\u001b[39;00m:\n\u001b[32m    881\u001b[39m         \u001b[38;5;66;03m# Binary mode\u001b[39;00m\n\u001b[32m    882\u001b[39m         handle = \u001b[38;5;28mopen\u001b[39m(handle, ioargs.mode)\n",
      "\u001b[31mFileNotFoundError\u001b[39m: [Errno 2] No such file or directory: 'Maurice2/data/openrocket_data.csv'"
     ]
    }
   ],
   "source": [
    "## Define gain matrix ##\n",
    "Kmax_preburnout = 100 / 7e1\n",
    "Kmin_preburnout = 17.5 / 7e1\n",
    "\n",
    "K_max_postburnout = 85 / 6e1\n",
    "K_min_postburnout = 17.5 / 6e1\n",
    "\n",
    "Ks = np.array([Kmax_preburnout, Kmin_preburnout, K_max_postburnout, K_min_postburnout])  # Gain scheduling based on altitude\n",
    "\n",
    "## Define initial conditions ##\n",
    "t0 = 0.0\n",
    "xhat0 = np.array([0, 0, 0, 0, 0, 0, 1, 0, 0, 0]) # Initial state estimate\n",
    "u0 = np.array([0])\n",
    "sampling_rate = 20.0  # Hz\n",
    "dt = 1.0 / sampling_rate\n",
    "\n",
    "controller = Controls(Ks=Ks, dt=dt, x0=xhat0, u0=u0, t_launch_rail_clearance=0.308)\n",
    "controller.deriveEOM(post_burnout=False)\n",
    "controller.deriveEOM(post_burnout=True)\n",
    "controller.buildL(lw=5.0, lqw=1.0, lqx=2.0, lqy=2.0, lqz=2.0)\n",
    "controller.test_AB(t0, xhat0, u0)"
   ]
  },
  {
   "cell_type": "code",
   "execution_count": null,
   "id": "f69ec7ee",
   "metadata": {},
   "outputs": [],
   "source": [
    "xhat = np.array(controller.states)\n",
    "u = np.array(controller.inputs)\n",
    "t = np.arange(0, xhat.shape[0]*controller.dt, controller.dt)\n",
    "\n",
    "fig, axs = plt.subplots(4, 1, figsize=(10, 8), sharex=False)\n",
    "fig.suptitle('Rocket State Estimator Results')\n",
    "axs[0].plot(t, xhat[:, 0], label='w1')\n",
    "axs[0].plot(t, xhat[:, 1], label='w2')\n",
    "axs[0].plot(t, xhat[:, 2], label='w3')\n",
    "axs[0].set_ylim([-1e-3, 1e-2])\n",
    "v3_100_indices = np.where(xhat[:, 5] >= 100)[0]\n",
    "v3_100_time = v3_100_indices[0] * controller.dt\n",
    "axs[0].axvline(v3_100_time, color='m', linestyle='--', label='v3 = 100 m/s')\n",
    "axs[0].axvline(controller.t_motor_burnout, color='r', linestyle='--', label='Motor Burnout')\n",
    "axs[0].set_ylabel('Angular Velocities (rad/s)')\n",
    "axs[0].legend(loc='upper right')\n",
    "axs[0].grid()\n",
    "axs[1].plot(t, xhat[:, 3], label='v1')\n",
    "axs[1].plot(t, xhat[:, 4], label='v2')\n",
    "axs[1].plot(t, xhat[:, 5], label='v3')\n",
    "axs[1].axvline(v3_100_time, color='m', linestyle='--', label='v3 = 100 m/s')\n",
    "axs[1].axvline(controller.t_motor_burnout, color='r', linestyle='--', label='Motor Burnout')\n",
    "axs[1].set_ylabel('Linear Velocities (m/s)')\n",
    "axs[1].legend(loc='upper right')\n",
    "axs[1].grid()\n",
    "axs[2].plot(t, u * 180/np.pi, label='delta1')\n",
    "axs[2].plot(t, -8 * np.ones_like(u), 'b--', label='Aileron Limits')\n",
    "axs[2].plot(t, 8 * np.ones_like(u), 'b--')\n",
    "axs[2].axvline(v3_100_time, color='m', linestyle='--', label='v3 = 100 m/s')\n",
    "axs[2].axvline(controller.t_motor_burnout, color='r', linestyle='--', label='Motor Burnout')\n",
    "axs[2].set_ylabel('Aileron Deflection (°)')\n",
    "axs[2].set_xlabel('Time (s)')\n",
    "axs[2].legend(loc='upper right')\n",
    "axs[2].grid()\n",
    "\n",
    "# Convert quaternion to Euler angles for plotting\n",
    "euler_angles = np.array([controller.quat_to_euler_xyz(q) for q in xhat[:, 6:10]])\n",
    "axs[3].plot(t, np.rad2deg(euler_angles[:, 0]), label='Pitch (θ)')\n",
    "axs[3].plot(t, np.rad2deg(euler_angles[:, 1]), label='Yaw (φ)')\n",
    "axs[3].plot(t, np.rad2deg(euler_angles[:, 2]), label='Roll (ψ)')\n",
    "axs[3].axvline(controller.t_motor_burnout, color='r', linestyle='--', label='Motor Burnout')\n",
    "axs[3].set_ylabel('Euler Angles (°)')\n",
    "axs[3].set_xlabel('Time (s)')\n",
    "axs[3].legend(loc='upper right')\n",
    "axs[3].grid()\n",
    "plt.tight_layout()\n",
    "\n",
    "# # Alternative: Plot quaternion components ##\n",
    "# axs[3].plot(t, xhat[:, 6], label='qw')\n",
    "# axs[3].plot(t, xhat[:, 7], label='qx')\n",
    "# axs[3].plot(t, xhat[:, 8], label='qy')\n",
    "# axs[3].plot(t, xhat[:, 9], label='qz')\n",
    "# axs[3].axvline(controller.t_motor_burnout, color='r', linestyle='--', label='Motor Burnout')\n",
    "# axs[3].set_ylabel('Quaternion Components')\n",
    "# axs[3].set_xlabel('Time (s)')\n",
    "# axs[3].legend()\n",
    "# axs[3].grid()\n",
    "# plt.tight_layout()"
   ]
  }
 ],
 "metadata": {
  "kernelspec": {
   "display_name": "ae353",
   "language": "python",
   "name": "python3"
  },
  "language_info": {
   "codemirror_mode": {
    "name": "ipython",
    "version": 3
   },
   "file_extension": ".py",
   "mimetype": "text/x-python",
   "name": "python",
   "nbconvert_exporter": "python",
   "pygments_lexer": "ipython3",
   "version": "3.13.2"
  }
 },
 "nbformat": 4,
 "nbformat_minor": 5
}
