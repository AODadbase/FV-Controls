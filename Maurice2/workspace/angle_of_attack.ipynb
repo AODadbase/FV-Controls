{
 "cells": [
  {
   "cell_type": "code",
   "execution_count": 1,
   "id": "fe41d3b7",
   "metadata": {},
   "outputs": [
    {
     "data": {
      "text/latex": [
       "$\\displaystyle \\cos{\\left(\\alpha \\right)} = \\frac{\\dot{v}_{3} \\sqrt{v_{1}^{2} + v_{2}^{2} + v_{3}^{2}} - \\sqrt{\\left(v_{1} \\dot{v}_{2} - v_{2} \\dot{v}_{1}\\right)^{2} + \\left(v_{1} \\dot{v}_{3} - v_{3} \\dot{v}_{1}\\right)^{2} + \\left(v_{2} \\dot{v}_{3} - v_{3} \\dot{v}_{2}\\right)^{2}} \\cos{\\left(\\alpha \\right)}}{\\sqrt{\\left(\\dot{v}_{1} \\sqrt{v_{1}^{2} + v_{2}^{2} + v_{3}^{2}} + \\sqrt{\\left(v_{1} \\dot{v}_{2} - v_{2} \\dot{v}_{1}\\right)^{2} + \\left(v_{1} \\dot{v}_{3} - v_{3} \\dot{v}_{1}\\right)^{2} + \\left(v_{2} \\dot{v}_{3} - v_{3} \\dot{v}_{2}\\right)^{2}} \\sin{\\left(\\alpha \\right)} \\cos{\\left(\\beta \\right)}\\right)^{2} + \\left(\\dot{v}_{2} \\sqrt{v_{1}^{2} + v_{2}^{2} + v_{3}^{2}} + \\sqrt{\\left(v_{1} \\dot{v}_{2} - v_{2} \\dot{v}_{1}\\right)^{2} + \\left(v_{1} \\dot{v}_{3} - v_{3} \\dot{v}_{1}\\right)^{2} + \\left(v_{2} \\dot{v}_{3} - v_{3} \\dot{v}_{2}\\right)^{2}} \\sin{\\left(\\alpha \\right)} \\cos{\\left(\\sigma \\right)}\\right)^{2} + \\left(\\dot{v}_{3} \\sqrt{v_{1}^{2} + v_{2}^{2} + v_{3}^{2}} - \\sqrt{\\left(v_{1} \\dot{v}_{2} - v_{2} \\dot{v}_{1}\\right)^{2} + \\left(v_{1} \\dot{v}_{3} - v_{3} \\dot{v}_{1}\\right)^{2} + \\left(v_{2} \\dot{v}_{3} - v_{3} \\dot{v}_{2}\\right)^{2}} \\cos{\\left(\\alpha \\right)}\\right)^{2}}}$"
      ],
      "text/plain": [
       "Eq(cos(alpha), (vdot3*sqrt(v1**2 + v2**2 + v3**2) - sqrt((v1*vdot2 - v2*vdot1)**2 + (v1*vdot3 - v3*vdot1)**2 + (v2*vdot3 - v3*vdot2)**2)*cos(alpha))/sqrt((vdot1*sqrt(v1**2 + v2**2 + v3**2) + sqrt((v1*vdot2 - v2*vdot1)**2 + (v1*vdot3 - v3*vdot1)**2 + (v2*vdot3 - v3*vdot2)**2)*sin(alpha)*cos(beta))**2 + (vdot2*sqrt(v1**2 + v2**2 + v3**2) + sqrt((v1*vdot2 - v2*vdot1)**2 + (v1*vdot3 - v3*vdot1)**2 + (v2*vdot3 - v3*vdot2)**2)*sin(alpha)*cos(sigma))**2 + (vdot3*sqrt(v1**2 + v2**2 + v3**2) - sqrt((v1*vdot2 - v2*vdot1)**2 + (v1*vdot3 - v3*vdot1)**2 + (v2*vdot3 - v3*vdot2)**2)*cos(alpha))**2))"
      ]
     },
     "execution_count": 1,
     "metadata": {},
     "output_type": "execute_result"
    }
   ],
   "source": [
    "from sympy import *\n",
    "v1, v2, v3, vdot1, vdot2, vdot3 = symbols('v1 v2 v3 vdot1 vdot2 vdot3', real=True)\n",
    "w1, w2, w3, wdot1, wdot2, wdot3 = symbols('w1 w2 w3 wdot1 wdot2 wdot3', real=True)\n",
    "alpha, beta, sigma = symbols('alpha beta sigma', real=True)\n",
    "m = symbols('m', real=True, positive=True)\n",
    "\n",
    "v = Matrix([v1, v2, v3])\n",
    "vdot = Matrix([vdot1, vdot2, vdot3])\n",
    "w = Matrix([w1, w2, w3])\n",
    "wdot = Matrix([wdot1, wdot2, wdot3])\n",
    "\n",
    "rhat = Matrix([-sin(alpha)*cos(beta), -sin(alpha)*cos(sigma), cos(alpha)])\n",
    "x = Matrix([1, 0, 0])\n",
    "y = Matrix([0, 1, 0])\n",
    "z = Matrix([0, 0, 1])\n",
    "\n",
    "r = (v.norm())**3 / ((v.cross(vdot)).norm())\n",
    "ac = v.norm()**2 / r * rhat\n",
    "\n",
    "at = vdot - ac\n",
    "eqn = (at.dot(z) / (at.norm() * z.norm()))\n",
    "eq = Eq(eqn, cos(alpha))\n",
    "# solve(eqn, alpha)\n",
    "eq.simplify()"
   ]
  }
 ],
 "metadata": {
  "kernelspec": {
   "display_name": "ae353",
   "language": "python",
   "name": "python3"
  },
  "language_info": {
   "codemirror_mode": {
    "name": "ipython",
    "version": 3
   },
   "file_extension": ".py",
   "mimetype": "text/x-python",
   "name": "python",
   "nbconvert_exporter": "python",
   "pygments_lexer": "ipython3",
   "version": "3.13.2"
  }
 },
 "nbformat": 4,
 "nbformat_minor": 5
}
